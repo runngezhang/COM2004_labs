{
 "metadata": {
  "name": "",
  "signature": "sha256:0c12b718bb29efa01d756c997f55d04f6dba68510674b91f02a48b052b499e06"
 },
 "nbformat": 3,
 "nbformat_minor": 0,
 "worksheets": [
  {
   "cells": [
    {
     "cell_type": "markdown",
     "metadata": {},
     "source": [
      "# COM2004/3004 Lab Week 1\n",
      "\n",
      "# Getting Started with iPython \u2013 Diagnosing Liver Disease\n",
      "\n",
      "## Objectives\n",
      "\n",
      "* To provide an introduction to iPython notebook.\n",
      "* To introduce a classification task using real data.\n",
      "* To learn how to use iPython to visualize 1- and 2-D distributions.\n",
      "\n",
      "# Starting iPython\n",
      "\n",
      "The following instructions will install iPython Notebook and open the notebook for this week's lab class. Follow them carefully and put up your hand if you get stuck.\n",
      "\n",
      "1. Boot your machine as a CICS Windows desktop and log in.\n",
      "2. Start 'Software Centre' using the desktop icon\n",
      "3. Search for and install Python-2.7 and iPython-Notebook-2.7\n",
      "4. Launch iPython Notebook from the Windows Start menu\n",
      "5. Find COM2004_Lab1.ipynb in lab section of MOLE\n",
      "6. Right click on the link and 'save target as...'. Save to the deskop\n",
      "7. In the web browser find the IPython Dashboard tab\n",
      "8. Drag the COM2004_Lab1.ipynb file to the IPython Dashboard\n",
      "\n",
      "# What is an iPython notebook?\n",
      "\n",
      "iPython is the interactive python shell, i.e. it is a command window into which you can directly type and evaluation Python expressions and programs. The iPython Notebook builds on this idea by using a web browser as an interface to a Python kernel. Web browsers are convenient because they provide all the machinary necessary for displaying code and graphical output. They also make it possible for the interactive client and the python kernel to be running on different machines connected via the web. \n",
      "\n",
      "The browser provides an interface to a notebook. A notebook is built of components called `cells` which either contain text elements or python code. This is ideal for lab classes because it means code examples and exercises can be embedded directly in the lab sheet. You'll see that some cells contain code already, in other places there are blank cells in which you will need to either fill in gaps or try ideas of your own.  iPython notebooks are also being widely used in research. For researchers they provide a convenient way to distribute reproducible research, i.e. the code to run experiments can be embedded in the report that describes them. \n",
      "\n",
      "# Loading the lab data.\n",
      "\n",
      "In this lab we are going to be experimenting with a set of medical data concerned with the diagnosis of liver disease. The data for this lab can be downloaded from my web page. Use a browser to visit the URL,\n",
      "\n",
      "    http://staffwww.dcs.shef.ac.uk/people/J.Barker/COM2004.html \n",
      "\n",
      "and click to download and save the data liver_data.txt somewhere on the Windows file\n",
      "system (e.g. either on the Desktop or in your student filestore). Once it has downloaded you can open the file and view the data.\n",
      "\n",
      "The data can be loaded directly from the web into this iPython notebook session without having to first download it by using the code in the next cell.\n",
      "\n",
      "To execute the code in the next cell,\n",
      "\n",
      "1. simply click on the cell so that it becomes the current cell (a green border should appear around it)\n",
      "2. click on the 'run cell' button - the black triangle in the tool bar above."
     ]
    },
    {
     "cell_type": "code",
     "collapsed": false,
     "input": [
      "import numpy as np\n",
      "import urllib2\n",
      "data = np.loadtxt(urllib2.urlopen(\"http://staffwww.dcs.shef.ac.uk/people/J.Barker/liver_data.txt\",\"rb\"), delimiter=\",\")"
     ],
     "language": "python",
     "metadata": {},
     "outputs": []
    },
    {
     "cell_type": "markdown",
     "metadata": {},
     "source": [
      "This command will load all the rows of comma-separated numbers from the file `liver_data.txt` and store them all in a matrix variable called `data`. (Note, the variable `data` did not need to be declared or given a type, or allocated memory ... Python is very different from Java!) \n",
      "\n",
      "# Understanding the data\n",
      "\n",
      "The data concerns the diagnosis of liver disease. Seven bits of information (7 columns) have been recorded about 345 patients (345 rows). We will talk about there being 345 samples and each sample having 7 features. The data in the 7 columns has the following meaning,\n",
      "\n",
      "1. mean corpuscular volume\n",
      "2. alkaline phosphotase\n",
      "3. alamine aminotransferase\n",
      "4. aspartate aminotransferase\n",
      "5. gamma-glutamyl transpeptidase\n",
      "6. number of half-pint equivalents of alcoholic beverages drunk per day \n",
      "7. Class label (1=healthy; 2=diseased)\n",
      "\n",
      "The first five are the results from blood tests (we do not need to worry about their precise meaning), the sixth concerns the patient\u2019s alcohol consumption. The final column is a \u2018class label\u2019. A 1 in this column means the patient is healthy and a 2 means the patient has liver disease. Full information about the data can be found here, http://archive.ics.uci.edu/ml/datasets/Liver+Disorders\n",
      "are results from blood tests (we do not need to worry about their precise meaning),\n",
      "\n",
      "If designing a medical diagnostic test, our goal would be to try and predict the class label in the seventh column (healthy vs. diseased) given the patient data recorded in the first 6 columns (the blood tests and alcohol consumption), i.e., it is a classification task (data in, label out).\n",
      "\n",
      "# Examining the data\n",
      "\n",
      "Let us now look at one of the features in more detail. We can extract the nth column from a matrix $M$ and store it in a vector, $v$, using the Python code,\n",
      "\n",
      "    v = M[:, n];\n",
      "\n",
      "So to extract the information about alcohol consumption (feature 6) we can run"
     ]
    },
    {
     "cell_type": "code",
     "collapsed": false,
     "input": [
      "drinks = data[:,5]"
     ],
     "language": "python",
     "metadata": {},
     "outputs": []
    },
    {
     "cell_type": "markdown",
     "metadata": {},
     "source": [
      "We can now plot this data using the plot command that is imported as part of the 'pylab' module. The line `%matplotlib inline` tells iPython notebook that we want the plots to appear inline in the notebook (i.e. in the browser) and not in a separate window."
     ]
    },
    {
     "cell_type": "code",
     "collapsed": false,
     "input": [
      "import matplotlib.pylab as plt\n",
      "%matplotlib inline\n",
      "plt.plot(drinks);"
     ],
     "language": "python",
     "metadata": {},
     "outputs": []
    },
    {
     "cell_type": "markdown",
     "metadata": {},
     "source": [
      "The plot should have appeared above. It will have the sample numbers along the x-axis (i.e. patient 1 to patient 345) and the patient's alcohol consumption on the y-axis. This is not a very clear way of viewing the data. It would be more appropriate to use a histogram (\u201ca bar chart\u201d). This can be easily done by using matplotlib's 'hist' function,"
     ]
    },
    {
     "cell_type": "code",
     "collapsed": false,
     "input": [
      "plt.hist(drinks);"
     ],
     "language": "python",
     "metadata": {},
     "outputs": []
    },
    {
     "cell_type": "markdown",
     "metadata": {},
     "source": [
      "Unfortunately by default the histogram has 10 bars which is not enough to display the data precisely. The `hist` function has a parameter called 'bins' that takes a vector that specifies the position of the boundary between each histogram bin. We want bins centered at 0, 1, 2, ..., 20, so we need to specify boundaries at -0.5, 0.5, 1.5, ..., 20.5. This is most easily done using python's `linspace` command which produces a sequence of evenly spaced values between two specified limits,"
     ]
    },
    {
     "cell_type": "code",
     "collapsed": false,
     "input": [
      "plt.hist(drinks,bins=np.linspace(-0.5,20.5,22));"
     ],
     "language": "python",
     "metadata": {},
     "outputs": []
    },
    {
     "cell_type": "markdown",
     "metadata": {},
     "source": [
      "You can make the figure a little clearer by changing the range of the axes, try,"
     ]
    },
    {
     "cell_type": "code",
     "collapsed": false,
     "input": [
      "plt.hist(drinks,bins=np.linspace(-0.5,20.5,22));\n",
      "plt.xlim([-0.5,20.5]);"
     ],
     "language": "python",
     "metadata": {},
     "outputs": []
    },
    {
     "cell_type": "markdown",
     "metadata": {},
     "source": [
      "So we can now see that the people in the dataset are drinking between 0 and 20 units of alcohol a day! With the mode (most popular) being 1 unit. (Where would you lie on this distribution?) To calculate the average alcohol consumption use the command '`np.mean(drinks)`'. Try typing this in the empty cell below,"
     ]
    },
    {
     "cell_type": "code",
     "collapsed": false,
     "input": [
      "#SOLUTION\n",
      "np.mean(drinks)"
     ],
     "language": "python",
     "metadata": {},
     "outputs": []
    },
    {
     "cell_type": "markdown",
     "metadata": {},
     "source": [
      "# Using the class label\n",
      "\n",
      "In the previous section we looked at the distribution of alcohol consumption for all 345 people. We now want to look at separate histograms for healthy and diseased people. Remember the class label is in column 7. We can make Python test whether the entries in a column match a specific number, say for example 1, by using syntax like, "
     ]
    },
    {
     "cell_type": "code",
     "collapsed": true,
     "input": [
      "# Uncomment the line below and execute the cell\n",
      "# data[:,6]==1"
     ],
     "language": "python",
     "metadata": {},
     "outputs": []
    },
    {
     "cell_type": "markdown",
     "metadata": {},
     "source": [
      "Take care to note that it is == and not = (i.e. the same as for comparisons in Java).\n",
      "\n",
      "The results are returned as a vector of 1\u2019s (true) and 0\u2019s (false). This single line of code effectively performed 345 comparisons and returned 345 results all in one go.\n",
      "\n",
      "We can store these results in a variable,"
     ]
    },
    {
     "cell_type": "code",
     "collapsed": false,
     "input": [
      "wellPeople = data[:,6]==1;"
     ],
     "language": "python",
     "metadata": {},
     "outputs": []
    },
    {
     "cell_type": "markdown",
     "metadata": {},
     "source": [
      "We can use these Booleans to select rows belonging to the healthy people from a column of our matrix, e.g. to select the column 6 data for just the healthy people,"
     ]
    },
    {
     "cell_type": "code",
     "collapsed": false,
     "input": [
      "wellDrinks = data[wellPeople, 5];"
     ],
     "language": "python",
     "metadata": {},
     "outputs": []
    },
    {
     "cell_type": "markdown",
     "metadata": {},
     "source": [
      "or putting it all in one line,"
     ]
    },
    {
     "cell_type": "code",
     "collapsed": false,
     "input": [
      "wellDrinks = data[data[:,6]==1, 5]"
     ],
     "language": "python",
     "metadata": {},
     "outputs": []
    },
    {
     "cell_type": "markdown",
     "metadata": {},
     "source": [
      "and similarly,"
     ]
    },
    {
     "cell_type": "code",
     "collapsed": false,
     "input": [
      "illDrinks = data[data[:,6]==2, 5];"
     ],
     "language": "python",
     "metadata": {},
     "outputs": []
    },
    {
     "cell_type": "markdown",
     "metadata": {},
     "source": [
      "Now we want to compare the histograms for these two classes. We can place two plots in the same window using the `subplot` command. See [here](http://matplotlib.org/api/pyplot_api.html?highlight=subplot#matplotlib.pyplot.subplot) for subplot documentation."
     ]
    },
    {
     "cell_type": "code",
     "collapsed": false,
     "input": [
      "plt.subplot(2,1,1);\n",
      "plt.hist(wellDrinks, bins=np.linspace(-0.5, 20.5, 22));\n",
      "plt.xlim(-0.5,20.5);\n",
      "plt.subplot(2,1,2);\n",
      "plt.hist(illDrinks, bins=np.linspace(-0.5, 20.5, 22));\n",
      "plt.xlim(-0.5,20.5);"
     ],
     "language": "python",
     "metadata": {},
     "outputs": []
    },
    {
     "cell_type": "markdown",
     "metadata": {},
     "source": [
      "Compare the two histograms. Are you surprised by how they appear? Is alcohol consumption by itself a good predictor of liver disease?\n",
      "\n",
      "# Writing functions\n",
      "\n",
      "So far we looked at the distribution of the 'number of drinks' feature (i.e. feature index 6) for the well and unwell classes. Let's say we now want to look at the distribution for another feature. We'd need to repeat the commands executed so far but using an index other than 6. It would be conveninet to place these commands in a function body. We would pass the data and the feature index as parameters of the function. We can then call the function with different index values and see how different features are distributed. \n",
      "\n",
      "Try implementing this function in the cell below. Hint, most of the lines can be cut and paste form above. The '6' just need replacing with a parameter variable."
     ]
    },
    {
     "cell_type": "code",
     "collapsed": false,
     "input": [
      "#SOLUTION\n",
      "def plot_distributions(data, feature_index):\n",
      "    well_data = data[data[:,6]==1, feature_index]\n",
      "    ill_data = data[data[:,6]==2, feature_index]\n",
      "    plt.subplot(2,1,1);\n",
      "    plt.hist(well_data, bins=20);\n",
      "    plt.subplot(2,1,2);\n",
      "    plt.hist(ill_data, bins=20);\n",
      "\n",
      "# test code\n",
      "plot_distributions(data, 3)"
     ],
     "language": "python",
     "metadata": {},
     "outputs": []
    },
    {
     "cell_type": "markdown",
     "metadata": {},
     "source": [
      "Which feature appears to be the best for distinguishing between the two classes? i.e. which feature generates a pair of histograms with the smallest overlap?\n",
      "\n",
      "# Looking at pairs of features using a scatter plot.\n",
      "\n",
      "You\u2019ll probably find that no one feature is very useful in isolation. The classes will be better separated if we use more features. When looking at one dimension we can visualize the data distribution using a histogram. When looking at the distribution of a pair of features it is often better to use a scatter plot. With a scatter plot the pair of features are represented as a point on a 2-D plane, i.e. each sample is plotted on the plane at a position that represents the value of the sample\u2019s features.\n",
      "\n",
      "Let\u2019s say that we want to look at feature 4 and feature 5. Again, we will separate the healthy people from the diseased people,"
     ]
    },
    {
     "cell_type": "code",
     "collapsed": false,
     "input": [
      "wellFeatureX = data[data[:,6]==1, 3];\n",
      "wellFeatureY = data[data[:,6]==1, 4];"
     ],
     "language": "python",
     "metadata": {},
     "outputs": []
    },
    {
     "cell_type": "markdown",
     "metadata": {},
     "source": [
      "we can now plot these against each other using,"
     ]
    },
    {
     "cell_type": "code",
     "collapsed": false,
     "input": [
      "plt.scatter(wellFeatureX, wellFeatureY);"
     ],
     "language": "python",
     "metadata": {},
     "outputs": []
    },
    {
     "cell_type": "markdown",
     "metadata": {},
     "source": [
      "Examine how the healthy patients are spread. We can now do the same for the diseased patients by changing the ==1 to ==2, i.e."
     ]
    },
    {
     "cell_type": "code",
     "collapsed": false,
     "input": [
      "illFeatureX = data[data[:,6]==2, 3];\n",
      "illFeatureY = data[data[:,6]==2, 4];\n",
      "plt.scatter(wellFeatureX, wellFeatureY);\n",
      "plt.scatter(illFeatureX, illFeatureY);"
     ],
     "language": "python",
     "metadata": {},
     "outputs": []
    },
    {
     "cell_type": "markdown",
     "metadata": {},
     "source": [
      "The problem now is that both sets of data are plotted using the same symbol so we can\u2019t see which is which. To use a different symbol and/or colour you can provide scatter with extra arguments. The argument 'c' can be used to specify a colour, 'marker' can be used to specify a marker style and 's' is an integer that specifies the marker size. \n",
      "\n",
      "The example below uses green crosses for the healthy people and red dots for the diseased people,"
     ]
    },
    {
     "cell_type": "code",
     "collapsed": false,
     "input": [
      "plt.scatter(illFeatureX, illFeatureY, s=20, c='r', marker='o');\n",
      "plt.scatter(wellFeatureX, wellFeatureY, s=20, c='g', marker='x');"
     ],
     "language": "python",
     "metadata": {},
     "outputs": []
    },
    {
     "cell_type": "markdown",
     "metadata": {},
     "source": [
      "How well are the two classes separated by this pair of features?\n",
      "\n",
      "We can now generalise the code we have written by writing a python function that takes the data and the indexes of any two features that we want to compare."
     ]
    },
    {
     "cell_type": "code",
     "collapsed": false,
     "input": [
      "def compare_features(data, f1, f2):\n",
      "    wellFeatureX = data[data[:,6]==1, f1]\n",
      "    wellFeatureY = data[data[:,6]==1, f2]\n",
      "    illFeatureX = data[data[:,6]==2, f1]\n",
      "    illFeatureY = data[data[:,6]==2, f2]\n",
      "    plt.scatter(illFeatureX, illFeatureY, s=20, c='r', marker='o')\n",
      "    plt.scatter(wellFeatureX, wellFeatureY, s=20, c='g', marker='x')\n",
      "    \n",
      "# call compare_features to test the function\n",
      "compare_features(data, 3, 4)"
     ],
     "language": "python",
     "metadata": {},
     "outputs": []
    },
    {
     "cell_type": "markdown",
     "metadata": {},
     "source": [
      "Once the function has been defined we can use it later in the notebook. For example the next cell uses the function to compare several different pairs of features,"
     ]
    },
    {
     "cell_type": "code",
     "collapsed": false,
     "input": [
      "plt.subplot(2,2,1)\n",
      "compare_features(data, 2, 3)\n",
      "plt.subplot(2,2,2)\n",
      "compare_features(data, 2, 4)\n",
      "plt.subplot(2,2,3)\n",
      "compare_features(data, 1, 4)\n",
      "plt.subplot(2,2,4)\n",
      "compare_features(data, 0, 3)"
     ],
     "language": "python",
     "metadata": {},
     "outputs": []
    },
    {
     "cell_type": "markdown",
     "metadata": {},
     "source": [
      "Now using a nested loop and the compare_features function write a piece of code that will systematically compare all six features against each other and present the result as a six by six grid of scatter plots. Use the empty cell below."
     ]
    },
    {
     "cell_type": "code",
     "collapsed": false,
     "input": [
      "#SOLUTION\n",
      "position = 1\n",
      "plt.figure(figsize=(12,12)) # Makes a bigger figure\n",
      "for row in range(6):\n",
      "    for col in range(6):\n",
      "        plt.subplot(6,6, position)\n",
      "        compare_features(data, row, col)\n",
      "        position += 1"
     ],
     "language": "python",
     "metadata": {},
     "outputs": []
    },
    {
     "cell_type": "markdown",
     "metadata": {},
     "source": [
      "# Summary\n",
      "\n",
      "***Python***: We have been introduced to iPython notebook and have used it to explore a small medical data set. We have seen how Python can store data in a matrix and how the data can be manipulated using a simple syntax. We have seen some of matplotlib's powerful plotting functions and used them to visualize some 1-D and 2-D data distributions using histograms and scatter plots.\n",
      "\n",
      "***Classification***: We have been introduced to a simple classification task based on the diagnosis of liver disease using patient data. We have seen that for real world tasks it can be hard to find single features that clearly separate the classes we are interested in. We have seen that using more that one feature at a time can be a way of better separating the classes (i.e. the data in the scatter plots was less overlapped that the data in the histograms).\n",
      "\n",
      "# What next\n",
      "\n",
      "***Python***: In Friday\u2019s lecture we will take a more systematic look at how we can work with vectors and matrices using numpy.\n",
      "\n",
      "***Classification***: In the second part of the lecture we will introduce some mathematical tools that are later going to help us understand how to build effective classifiers, including basic probability theory and linear algebra."
     ]
    },
    {
     "cell_type": "code",
     "collapsed": false,
     "input": [],
     "language": "python",
     "metadata": {},
     "outputs": []
    }
   ],
   "metadata": {}
  }
 ]
}